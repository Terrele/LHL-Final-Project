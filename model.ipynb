{
 "cells": [
  {
   "cell_type": "code",
   "execution_count": 1,
   "id": "27280f30-89e6-47d6-8e5b-f05c070ac3a8",
   "metadata": {},
   "outputs": [],
   "source": [
    "import pandas as pd\n",
    "import matplotlib.pyplot as plt\n",
    "import seaborn as sns\n",
    "import numpy as np\n",
    "from sklearn.model_selection import train_test_split, GridSearchCV\n",
    "from sklearn.pipeline import Pipeline, FeatureUnion\n",
    "from sklearn.preprocessing import StandardScaler, PolynomialFeatures\n",
    "from sklearn.linear_model import LogisticRegression\n",
    "from sklearn.ensemble import RandomForestClassifier\n",
    "from sklearn.metrics import accuracy_score, confusion_matrix, recall_score, precision_score, RocCurveDisplay\n",
    "from sklearn.compose import ColumnTransformer\n",
    "from sklearn.impute import SimpleImputer\n",
    "from sklearn.tree import DecisionTreeClassifier\n",
    "from sklearn.neighbors import KNeighborsClassifier\n",
    "from sklearn.ensemble import GradientBoostingClassifier\n",
    "import pickle"
   ]
  },
  {
   "cell_type": "code",
   "execution_count": 2,
   "id": "ae3a2efd-d3c5-4d16-9a85-d32e8edc359f",
   "metadata": {},
   "outputs": [],
   "source": [
    "df = pd.read_csv('league_data.csv')"
   ]
  },
  {
   "cell_type": "code",
   "execution_count": 3,
   "id": "6514dfb2-122a-4bbd-b70d-437669521bb3",
   "metadata": {},
   "outputs": [
    {
     "data": {
      "text/html": [
       "<div>\n",
       "<style scoped>\n",
       "    .dataframe tbody tr th:only-of-type {\n",
       "        vertical-align: middle;\n",
       "    }\n",
       "\n",
       "    .dataframe tbody tr th {\n",
       "        vertical-align: top;\n",
       "    }\n",
       "\n",
       "    .dataframe thead th {\n",
       "        text-align: right;\n",
       "    }\n",
       "</style>\n",
       "<table border=\"1\" class=\"dataframe\">\n",
       "  <thead>\n",
       "    <tr style=\"text-align: right;\">\n",
       "      <th></th>\n",
       "      <th>blue_average_level</th>\n",
       "      <th>blue_total_gold</th>\n",
       "      <th>blue_totalDamageDoneToChampions</th>\n",
       "      <th>blue_totalDamageDone</th>\n",
       "      <th>blue_minionsKilled</th>\n",
       "      <th>blue_timeEnemySpentControlled</th>\n",
       "      <th>blue_jungleMinionsKilled</th>\n",
       "      <th>blue_currentGold</th>\n",
       "      <th>blue_first_blood</th>\n",
       "      <th>blue_champions_killed</th>\n",
       "      <th>...</th>\n",
       "      <th>red_total_gold</th>\n",
       "      <th>red_totalDamageDoneToChampions</th>\n",
       "      <th>red_totalDamageDone</th>\n",
       "      <th>red_minionsKilled</th>\n",
       "      <th>red_timeEnemySpentControlled</th>\n",
       "      <th>red_jungleMinionsKilled</th>\n",
       "      <th>red_currentGold</th>\n",
       "      <th>red_first_blood</th>\n",
       "      <th>red_champions_killed</th>\n",
       "      <th>blue_win</th>\n",
       "    </tr>\n",
       "  </thead>\n",
       "  <tbody>\n",
       "    <tr>\n",
       "      <th>0</th>\n",
       "      <td>11.2</td>\n",
       "      <td>39882</td>\n",
       "      <td>55612</td>\n",
       "      <td>123124</td>\n",
       "      <td>107</td>\n",
       "      <td>810574</td>\n",
       "      <td>0</td>\n",
       "      <td>2667</td>\n",
       "      <td>1</td>\n",
       "      <td>32</td>\n",
       "      <td>...</td>\n",
       "      <td>39457</td>\n",
       "      <td>51575</td>\n",
       "      <td>114873</td>\n",
       "      <td>94</td>\n",
       "      <td>242770</td>\n",
       "      <td>0</td>\n",
       "      <td>3907</td>\n",
       "      <td>0</td>\n",
       "      <td>28</td>\n",
       "      <td>0</td>\n",
       "    </tr>\n",
       "    <tr>\n",
       "      <th>1</th>\n",
       "      <td>11.2</td>\n",
       "      <td>38016</td>\n",
       "      <td>55485</td>\n",
       "      <td>118283</td>\n",
       "      <td>103</td>\n",
       "      <td>459175</td>\n",
       "      <td>0</td>\n",
       "      <td>3491</td>\n",
       "      <td>1</td>\n",
       "      <td>26</td>\n",
       "      <td>...</td>\n",
       "      <td>34854</td>\n",
       "      <td>46479</td>\n",
       "      <td>101181</td>\n",
       "      <td>82</td>\n",
       "      <td>463526</td>\n",
       "      <td>0</td>\n",
       "      <td>2944</td>\n",
       "      <td>0</td>\n",
       "      <td>20</td>\n",
       "      <td>0</td>\n",
       "    </tr>\n",
       "    <tr>\n",
       "      <th>2</th>\n",
       "      <td>11.4</td>\n",
       "      <td>37813</td>\n",
       "      <td>53146</td>\n",
       "      <td>120978</td>\n",
       "      <td>110</td>\n",
       "      <td>477797</td>\n",
       "      <td>0</td>\n",
       "      <td>7113</td>\n",
       "      <td>0</td>\n",
       "      <td>26</td>\n",
       "      <td>...</td>\n",
       "      <td>35742</td>\n",
       "      <td>41846</td>\n",
       "      <td>108435</td>\n",
       "      <td>126</td>\n",
       "      <td>533124</td>\n",
       "      <td>0</td>\n",
       "      <td>1892</td>\n",
       "      <td>1</td>\n",
       "      <td>21</td>\n",
       "      <td>0</td>\n",
       "    </tr>\n",
       "    <tr>\n",
       "      <th>3</th>\n",
       "      <td>6.8</td>\n",
       "      <td>16418</td>\n",
       "      <td>15996</td>\n",
       "      <td>116309</td>\n",
       "      <td>203</td>\n",
       "      <td>197187</td>\n",
       "      <td>66</td>\n",
       "      <td>3918</td>\n",
       "      <td>0</td>\n",
       "      <td>6</td>\n",
       "      <td>...</td>\n",
       "      <td>21354</td>\n",
       "      <td>18708</td>\n",
       "      <td>156906</td>\n",
       "      <td>184</td>\n",
       "      <td>316942</td>\n",
       "      <td>75</td>\n",
       "      <td>3984</td>\n",
       "      <td>1</td>\n",
       "      <td>16</td>\n",
       "      <td>1</td>\n",
       "    </tr>\n",
       "    <tr>\n",
       "      <th>4</th>\n",
       "      <td>7.2</td>\n",
       "      <td>20480</td>\n",
       "      <td>20826</td>\n",
       "      <td>150130</td>\n",
       "      <td>225</td>\n",
       "      <td>264053</td>\n",
       "      <td>64</td>\n",
       "      <td>3640</td>\n",
       "      <td>1</td>\n",
       "      <td>15</td>\n",
       "      <td>...</td>\n",
       "      <td>16415</td>\n",
       "      <td>14275</td>\n",
       "      <td>112602</td>\n",
       "      <td>214</td>\n",
       "      <td>1138302</td>\n",
       "      <td>44</td>\n",
       "      <td>1625</td>\n",
       "      <td>0</td>\n",
       "      <td>6</td>\n",
       "      <td>0</td>\n",
       "    </tr>\n",
       "    <tr>\n",
       "      <th>...</th>\n",
       "      <td>...</td>\n",
       "      <td>...</td>\n",
       "      <td>...</td>\n",
       "      <td>...</td>\n",
       "      <td>...</td>\n",
       "      <td>...</td>\n",
       "      <td>...</td>\n",
       "      <td>...</td>\n",
       "      <td>...</td>\n",
       "      <td>...</td>\n",
       "      <td>...</td>\n",
       "      <td>...</td>\n",
       "      <td>...</td>\n",
       "      <td>...</td>\n",
       "      <td>...</td>\n",
       "      <td>...</td>\n",
       "      <td>...</td>\n",
       "      <td>...</td>\n",
       "      <td>...</td>\n",
       "      <td>...</td>\n",
       "      <td>...</td>\n",
       "    </tr>\n",
       "    <tr>\n",
       "      <th>1960</th>\n",
       "      <td>6.6</td>\n",
       "      <td>15432</td>\n",
       "      <td>13701</td>\n",
       "      <td>132001</td>\n",
       "      <td>224</td>\n",
       "      <td>527674</td>\n",
       "      <td>56</td>\n",
       "      <td>3887</td>\n",
       "      <td>1</td>\n",
       "      <td>2</td>\n",
       "      <td>...</td>\n",
       "      <td>16538</td>\n",
       "      <td>13753</td>\n",
       "      <td>132255</td>\n",
       "      <td>233</td>\n",
       "      <td>377511</td>\n",
       "      <td>52</td>\n",
       "      <td>3313</td>\n",
       "      <td>0</td>\n",
       "      <td>5</td>\n",
       "      <td>0</td>\n",
       "    </tr>\n",
       "    <tr>\n",
       "      <th>1961</th>\n",
       "      <td>6.8</td>\n",
       "      <td>16792</td>\n",
       "      <td>12438</td>\n",
       "      <td>131264</td>\n",
       "      <td>252</td>\n",
       "      <td>329499</td>\n",
       "      <td>56</td>\n",
       "      <td>4202</td>\n",
       "      <td>1</td>\n",
       "      <td>6</td>\n",
       "      <td>...</td>\n",
       "      <td>15852</td>\n",
       "      <td>12894</td>\n",
       "      <td>146578</td>\n",
       "      <td>237</td>\n",
       "      <td>490171</td>\n",
       "      <td>60</td>\n",
       "      <td>4152</td>\n",
       "      <td>0</td>\n",
       "      <td>2</td>\n",
       "      <td>0</td>\n",
       "    </tr>\n",
       "    <tr>\n",
       "      <th>1962</th>\n",
       "      <td>7.0</td>\n",
       "      <td>19368</td>\n",
       "      <td>17575</td>\n",
       "      <td>137518</td>\n",
       "      <td>225</td>\n",
       "      <td>353445</td>\n",
       "      <td>44</td>\n",
       "      <td>6233</td>\n",
       "      <td>1</td>\n",
       "      <td>10</td>\n",
       "      <td>...</td>\n",
       "      <td>14010</td>\n",
       "      <td>15316</td>\n",
       "      <td>94263</td>\n",
       "      <td>163</td>\n",
       "      <td>314618</td>\n",
       "      <td>44</td>\n",
       "      <td>1185</td>\n",
       "      <td>0</td>\n",
       "      <td>3</td>\n",
       "      <td>1</td>\n",
       "    </tr>\n",
       "    <tr>\n",
       "      <th>1963</th>\n",
       "      <td>11.0</td>\n",
       "      <td>38460</td>\n",
       "      <td>46568</td>\n",
       "      <td>104397</td>\n",
       "      <td>81</td>\n",
       "      <td>446357</td>\n",
       "      <td>0</td>\n",
       "      <td>2285</td>\n",
       "      <td>1</td>\n",
       "      <td>28</td>\n",
       "      <td>...</td>\n",
       "      <td>38525</td>\n",
       "      <td>43529</td>\n",
       "      <td>110417</td>\n",
       "      <td>101</td>\n",
       "      <td>328971</td>\n",
       "      <td>0</td>\n",
       "      <td>4990</td>\n",
       "      <td>0</td>\n",
       "      <td>27</td>\n",
       "      <td>1</td>\n",
       "    </tr>\n",
       "    <tr>\n",
       "      <th>1964</th>\n",
       "      <td>6.4</td>\n",
       "      <td>14002</td>\n",
       "      <td>12688</td>\n",
       "      <td>113819</td>\n",
       "      <td>201</td>\n",
       "      <td>276275</td>\n",
       "      <td>52</td>\n",
       "      <td>2387</td>\n",
       "      <td>1</td>\n",
       "      <td>2</td>\n",
       "      <td>...</td>\n",
       "      <td>15357</td>\n",
       "      <td>15986</td>\n",
       "      <td>122491</td>\n",
       "      <td>209</td>\n",
       "      <td>304620</td>\n",
       "      <td>56</td>\n",
       "      <td>2522</td>\n",
       "      <td>0</td>\n",
       "      <td>4</td>\n",
       "      <td>1</td>\n",
       "    </tr>\n",
       "  </tbody>\n",
       "</table>\n",
       "<p>1965 rows × 21 columns</p>\n",
       "</div>"
      ],
      "text/plain": [
       "      blue_average_level  blue_total_gold  blue_totalDamageDoneToChampions  \\\n",
       "0                   11.2            39882                            55612   \n",
       "1                   11.2            38016                            55485   \n",
       "2                   11.4            37813                            53146   \n",
       "3                    6.8            16418                            15996   \n",
       "4                    7.2            20480                            20826   \n",
       "...                  ...              ...                              ...   \n",
       "1960                 6.6            15432                            13701   \n",
       "1961                 6.8            16792                            12438   \n",
       "1962                 7.0            19368                            17575   \n",
       "1963                11.0            38460                            46568   \n",
       "1964                 6.4            14002                            12688   \n",
       "\n",
       "      blue_totalDamageDone  blue_minionsKilled  blue_timeEnemySpentControlled  \\\n",
       "0                   123124                 107                         810574   \n",
       "1                   118283                 103                         459175   \n",
       "2                   120978                 110                         477797   \n",
       "3                   116309                 203                         197187   \n",
       "4                   150130                 225                         264053   \n",
       "...                    ...                 ...                            ...   \n",
       "1960                132001                 224                         527674   \n",
       "1961                131264                 252                         329499   \n",
       "1962                137518                 225                         353445   \n",
       "1963                104397                  81                         446357   \n",
       "1964                113819                 201                         276275   \n",
       "\n",
       "      blue_jungleMinionsKilled  blue_currentGold  blue_first_blood  \\\n",
       "0                            0              2667                 1   \n",
       "1                            0              3491                 1   \n",
       "2                            0              7113                 0   \n",
       "3                           66              3918                 0   \n",
       "4                           64              3640                 1   \n",
       "...                        ...               ...               ...   \n",
       "1960                        56              3887                 1   \n",
       "1961                        56              4202                 1   \n",
       "1962                        44              6233                 1   \n",
       "1963                         0              2285                 1   \n",
       "1964                        52              2387                 1   \n",
       "\n",
       "      blue_champions_killed  ...  red_total_gold  \\\n",
       "0                        32  ...           39457   \n",
       "1                        26  ...           34854   \n",
       "2                        26  ...           35742   \n",
       "3                         6  ...           21354   \n",
       "4                        15  ...           16415   \n",
       "...                     ...  ...             ...   \n",
       "1960                      2  ...           16538   \n",
       "1961                      6  ...           15852   \n",
       "1962                     10  ...           14010   \n",
       "1963                     28  ...           38525   \n",
       "1964                      2  ...           15357   \n",
       "\n",
       "      red_totalDamageDoneToChampions  red_totalDamageDone  red_minionsKilled  \\\n",
       "0                              51575               114873                 94   \n",
       "1                              46479               101181                 82   \n",
       "2                              41846               108435                126   \n",
       "3                              18708               156906                184   \n",
       "4                              14275               112602                214   \n",
       "...                              ...                  ...                ...   \n",
       "1960                           13753               132255                233   \n",
       "1961                           12894               146578                237   \n",
       "1962                           15316                94263                163   \n",
       "1963                           43529               110417                101   \n",
       "1964                           15986               122491                209   \n",
       "\n",
       "      red_timeEnemySpentControlled  red_jungleMinionsKilled  red_currentGold  \\\n",
       "0                           242770                        0             3907   \n",
       "1                           463526                        0             2944   \n",
       "2                           533124                        0             1892   \n",
       "3                           316942                       75             3984   \n",
       "4                          1138302                       44             1625   \n",
       "...                            ...                      ...              ...   \n",
       "1960                        377511                       52             3313   \n",
       "1961                        490171                       60             4152   \n",
       "1962                        314618                       44             1185   \n",
       "1963                        328971                        0             4990   \n",
       "1964                        304620                       56             2522   \n",
       "\n",
       "      red_first_blood  red_champions_killed  blue_win  \n",
       "0                   0                    28         0  \n",
       "1                   0                    20         0  \n",
       "2                   1                    21         0  \n",
       "3                   1                    16         1  \n",
       "4                   0                     6         0  \n",
       "...               ...                   ...       ...  \n",
       "1960                0                     5         0  \n",
       "1961                0                     2         0  \n",
       "1962                0                     3         1  \n",
       "1963                0                    27         1  \n",
       "1964                0                     4         1  \n",
       "\n",
       "[1965 rows x 21 columns]"
      ]
     },
     "execution_count": 3,
     "metadata": {},
     "output_type": "execute_result"
    }
   ],
   "source": [
    "df"
   ]
  },
  {
   "cell_type": "code",
   "execution_count": 4,
   "id": "719aa49a-f86e-454b-a469-191424eec7ab",
   "metadata": {},
   "outputs": [
    {
     "name": "stdout",
     "output_type": "stream",
     "text": [
      "<class 'pandas.core.frame.DataFrame'>\n",
      "RangeIndex: 1965 entries, 0 to 1964\n",
      "Data columns (total 21 columns):\n",
      " #   Column                           Non-Null Count  Dtype  \n",
      "---  ------                           --------------  -----  \n",
      " 0   blue_average_level               1965 non-null   float64\n",
      " 1   blue_total_gold                  1965 non-null   int64  \n",
      " 2   blue_totalDamageDoneToChampions  1965 non-null   int64  \n",
      " 3   blue_totalDamageDone             1965 non-null   int64  \n",
      " 4   blue_minionsKilled               1965 non-null   int64  \n",
      " 5   blue_timeEnemySpentControlled    1965 non-null   int64  \n",
      " 6   blue_jungleMinionsKilled         1965 non-null   int64  \n",
      " 7   blue_currentGold                 1965 non-null   int64  \n",
      " 8   blue_first_blood                 1965 non-null   int64  \n",
      " 9   blue_champions_killed            1965 non-null   int64  \n",
      " 10  red_average_level                1965 non-null   float64\n",
      " 11  red_total_gold                   1965 non-null   int64  \n",
      " 12  red_totalDamageDoneToChampions   1965 non-null   int64  \n",
      " 13  red_totalDamageDone              1965 non-null   int64  \n",
      " 14  red_minionsKilled                1965 non-null   int64  \n",
      " 15  red_timeEnemySpentControlled     1965 non-null   int64  \n",
      " 16  red_jungleMinionsKilled          1965 non-null   int64  \n",
      " 17  red_currentGold                  1965 non-null   int64  \n",
      " 18  red_first_blood                  1965 non-null   int64  \n",
      " 19  red_champions_killed             1965 non-null   int64  \n",
      " 20  blue_win                         1965 non-null   int64  \n",
      "dtypes: float64(2), int64(19)\n",
      "memory usage: 322.5 KB\n"
     ]
    }
   ],
   "source": [
    "df.info()"
   ]
  },
  {
   "cell_type": "code",
   "execution_count": 5,
   "id": "f5ee08d0-4421-4cc1-aab1-a7f3a7c0bce7",
   "metadata": {},
   "outputs": [
    {
     "data": {
      "text/html": [
       "<div>\n",
       "<style scoped>\n",
       "    .dataframe tbody tr th:only-of-type {\n",
       "        vertical-align: middle;\n",
       "    }\n",
       "\n",
       "    .dataframe tbody tr th {\n",
       "        vertical-align: top;\n",
       "    }\n",
       "\n",
       "    .dataframe thead th {\n",
       "        text-align: right;\n",
       "    }\n",
       "</style>\n",
       "<table border=\"1\" class=\"dataframe\">\n",
       "  <thead>\n",
       "    <tr style=\"text-align: right;\">\n",
       "      <th></th>\n",
       "      <th>blue_average_level</th>\n",
       "      <th>blue_total_gold</th>\n",
       "      <th>blue_totalDamageDoneToChampions</th>\n",
       "      <th>blue_totalDamageDone</th>\n",
       "      <th>blue_minionsKilled</th>\n",
       "      <th>blue_timeEnemySpentControlled</th>\n",
       "      <th>blue_jungleMinionsKilled</th>\n",
       "      <th>blue_currentGold</th>\n",
       "      <th>blue_first_blood</th>\n",
       "      <th>blue_champions_killed</th>\n",
       "      <th>...</th>\n",
       "      <th>red_total_gold</th>\n",
       "      <th>red_totalDamageDoneToChampions</th>\n",
       "      <th>red_totalDamageDone</th>\n",
       "      <th>red_minionsKilled</th>\n",
       "      <th>red_timeEnemySpentControlled</th>\n",
       "      <th>red_jungleMinionsKilled</th>\n",
       "      <th>red_currentGold</th>\n",
       "      <th>red_first_blood</th>\n",
       "      <th>red_champions_killed</th>\n",
       "      <th>blue_win</th>\n",
       "    </tr>\n",
       "  </thead>\n",
       "  <tbody>\n",
       "    <tr>\n",
       "      <th>count</th>\n",
       "      <td>1965.000000</td>\n",
       "      <td>1965.000000</td>\n",
       "      <td>1965.000000</td>\n",
       "      <td>1965.00000</td>\n",
       "      <td>1965.000000</td>\n",
       "      <td>1.965000e+03</td>\n",
       "      <td>1965.000000</td>\n",
       "      <td>1965.000000</td>\n",
       "      <td>1965.000000</td>\n",
       "      <td>1965.000000</td>\n",
       "      <td>...</td>\n",
       "      <td>1965.000000</td>\n",
       "      <td>1965.000000</td>\n",
       "      <td>1965.000000</td>\n",
       "      <td>1965.000000</td>\n",
       "      <td>1.965000e+03</td>\n",
       "      <td>1965.000000</td>\n",
       "      <td>1965.000000</td>\n",
       "      <td>1965.000000</td>\n",
       "      <td>1965.000000</td>\n",
       "      <td>1965.000000</td>\n",
       "    </tr>\n",
       "    <tr>\n",
       "      <th>mean</th>\n",
       "      <td>7.266260</td>\n",
       "      <td>19063.065649</td>\n",
       "      <td>17948.731807</td>\n",
       "      <td>129813.29771</td>\n",
       "      <td>203.970992</td>\n",
       "      <td>3.907957e+05</td>\n",
       "      <td>47.758270</td>\n",
       "      <td>3220.991858</td>\n",
       "      <td>0.517048</td>\n",
       "      <td>8.627481</td>\n",
       "      <td>...</td>\n",
       "      <td>18980.467684</td>\n",
       "      <td>17767.105852</td>\n",
       "      <td>129822.482443</td>\n",
       "      <td>204.508906</td>\n",
       "      <td>3.835996e+05</td>\n",
       "      <td>47.912977</td>\n",
       "      <td>3287.313995</td>\n",
       "      <td>0.474300</td>\n",
       "      <td>8.603562</td>\n",
       "      <td>0.517557</td>\n",
       "    </tr>\n",
       "    <tr>\n",
       "      <th>std</th>\n",
       "      <td>1.338642</td>\n",
       "      <td>6810.874944</td>\n",
       "      <td>11082.494450</td>\n",
       "      <td>25210.37820</td>\n",
       "      <td>39.492796</td>\n",
       "      <td>1.868621e+05</td>\n",
       "      <td>17.719157</td>\n",
       "      <td>1338.332692</td>\n",
       "      <td>0.499836</td>\n",
       "      <td>6.710455</td>\n",
       "      <td>...</td>\n",
       "      <td>6865.606432</td>\n",
       "      <td>11091.073348</td>\n",
       "      <td>26053.412051</td>\n",
       "      <td>40.473490</td>\n",
       "      <td>1.962646e+05</td>\n",
       "      <td>17.535999</td>\n",
       "      <td>1349.707314</td>\n",
       "      <td>0.499466</td>\n",
       "      <td>6.694306</td>\n",
       "      <td>0.499819</td>\n",
       "    </tr>\n",
       "    <tr>\n",
       "      <th>min</th>\n",
       "      <td>1.000000</td>\n",
       "      <td>2500.000000</td>\n",
       "      <td>0.000000</td>\n",
       "      <td>33.00000</td>\n",
       "      <td>0.000000</td>\n",
       "      <td>0.000000e+00</td>\n",
       "      <td>0.000000</td>\n",
       "      <td>0.000000</td>\n",
       "      <td>0.000000</td>\n",
       "      <td>0.000000</td>\n",
       "      <td>...</td>\n",
       "      <td>2500.000000</td>\n",
       "      <td>0.000000</td>\n",
       "      <td>72.000000</td>\n",
       "      <td>0.000000</td>\n",
       "      <td>0.000000e+00</td>\n",
       "      <td>0.000000</td>\n",
       "      <td>0.000000</td>\n",
       "      <td>0.000000</td>\n",
       "      <td>0.000000</td>\n",
       "      <td>0.000000</td>\n",
       "    </tr>\n",
       "    <tr>\n",
       "      <th>25%</th>\n",
       "      <td>6.800000</td>\n",
       "      <td>15929.000000</td>\n",
       "      <td>12780.000000</td>\n",
       "      <td>117992.00000</td>\n",
       "      <td>193.000000</td>\n",
       "      <td>2.734780e+05</td>\n",
       "      <td>44.000000</td>\n",
       "      <td>2303.000000</td>\n",
       "      <td>0.000000</td>\n",
       "      <td>5.000000</td>\n",
       "      <td>...</td>\n",
       "      <td>15841.000000</td>\n",
       "      <td>12480.000000</td>\n",
       "      <td>116949.000000</td>\n",
       "      <td>194.000000</td>\n",
       "      <td>2.627470e+05</td>\n",
       "      <td>44.000000</td>\n",
       "      <td>2379.000000</td>\n",
       "      <td>0.000000</td>\n",
       "      <td>5.000000</td>\n",
       "      <td>0.000000</td>\n",
       "    </tr>\n",
       "    <tr>\n",
       "      <th>50%</th>\n",
       "      <td>7.000000</td>\n",
       "      <td>17134.000000</td>\n",
       "      <td>14944.000000</td>\n",
       "      <td>128252.00000</td>\n",
       "      <td>212.000000</td>\n",
       "      <td>3.576560e+05</td>\n",
       "      <td>52.000000</td>\n",
       "      <td>3039.000000</td>\n",
       "      <td>1.000000</td>\n",
       "      <td>7.000000</td>\n",
       "      <td>...</td>\n",
       "      <td>17070.000000</td>\n",
       "      <td>14855.000000</td>\n",
       "      <td>128240.000000</td>\n",
       "      <td>212.000000</td>\n",
       "      <td>3.500020e+05</td>\n",
       "      <td>52.000000</td>\n",
       "      <td>3122.000000</td>\n",
       "      <td>0.000000</td>\n",
       "      <td>7.000000</td>\n",
       "      <td>1.000000</td>\n",
       "    </tr>\n",
       "    <tr>\n",
       "      <th>75%</th>\n",
       "      <td>7.200000</td>\n",
       "      <td>18603.000000</td>\n",
       "      <td>17507.000000</td>\n",
       "      <td>138760.00000</td>\n",
       "      <td>228.000000</td>\n",
       "      <td>4.646380e+05</td>\n",
       "      <td>59.000000</td>\n",
       "      <td>4005.000000</td>\n",
       "      <td>1.000000</td>\n",
       "      <td>10.000000</td>\n",
       "      <td>...</td>\n",
       "      <td>18483.000000</td>\n",
       "      <td>17453.000000</td>\n",
       "      <td>140435.000000</td>\n",
       "      <td>228.000000</td>\n",
       "      <td>4.505330e+05</td>\n",
       "      <td>59.000000</td>\n",
       "      <td>4059.000000</td>\n",
       "      <td>1.000000</td>\n",
       "      <td>10.000000</td>\n",
       "      <td>1.000000</td>\n",
       "    </tr>\n",
       "    <tr>\n",
       "      <th>max</th>\n",
       "      <td>12.000000</td>\n",
       "      <td>49394.000000</td>\n",
       "      <td>80913.000000</td>\n",
       "      <td>273609.00000</td>\n",
       "      <td>287.000000</td>\n",
       "      <td>1.433723e+06</td>\n",
       "      <td>112.000000</td>\n",
       "      <td>11074.000000</td>\n",
       "      <td>1.000000</td>\n",
       "      <td>41.000000</td>\n",
       "      <td>...</td>\n",
       "      <td>50709.000000</td>\n",
       "      <td>90131.000000</td>\n",
       "      <td>267074.000000</td>\n",
       "      <td>280.000000</td>\n",
       "      <td>2.934767e+06</td>\n",
       "      <td>84.000000</td>\n",
       "      <td>11801.000000</td>\n",
       "      <td>1.000000</td>\n",
       "      <td>50.000000</td>\n",
       "      <td>1.000000</td>\n",
       "    </tr>\n",
       "  </tbody>\n",
       "</table>\n",
       "<p>8 rows × 21 columns</p>\n",
       "</div>"
      ],
      "text/plain": [
       "       blue_average_level  blue_total_gold  blue_totalDamageDoneToChampions  \\\n",
       "count         1965.000000      1965.000000                      1965.000000   \n",
       "mean             7.266260     19063.065649                     17948.731807   \n",
       "std              1.338642      6810.874944                     11082.494450   \n",
       "min              1.000000      2500.000000                         0.000000   \n",
       "25%              6.800000     15929.000000                     12780.000000   \n",
       "50%              7.000000     17134.000000                     14944.000000   \n",
       "75%              7.200000     18603.000000                     17507.000000   \n",
       "max             12.000000     49394.000000                     80913.000000   \n",
       "\n",
       "       blue_totalDamageDone  blue_minionsKilled  \\\n",
       "count            1965.00000         1965.000000   \n",
       "mean           129813.29771          203.970992   \n",
       "std             25210.37820           39.492796   \n",
       "min                33.00000            0.000000   \n",
       "25%            117992.00000          193.000000   \n",
       "50%            128252.00000          212.000000   \n",
       "75%            138760.00000          228.000000   \n",
       "max            273609.00000          287.000000   \n",
       "\n",
       "       blue_timeEnemySpentControlled  blue_jungleMinionsKilled  \\\n",
       "count                   1.965000e+03               1965.000000   \n",
       "mean                    3.907957e+05                 47.758270   \n",
       "std                     1.868621e+05                 17.719157   \n",
       "min                     0.000000e+00                  0.000000   \n",
       "25%                     2.734780e+05                 44.000000   \n",
       "50%                     3.576560e+05                 52.000000   \n",
       "75%                     4.646380e+05                 59.000000   \n",
       "max                     1.433723e+06                112.000000   \n",
       "\n",
       "       blue_currentGold  blue_first_blood  blue_champions_killed  ...  \\\n",
       "count       1965.000000       1965.000000            1965.000000  ...   \n",
       "mean        3220.991858          0.517048               8.627481  ...   \n",
       "std         1338.332692          0.499836               6.710455  ...   \n",
       "min            0.000000          0.000000               0.000000  ...   \n",
       "25%         2303.000000          0.000000               5.000000  ...   \n",
       "50%         3039.000000          1.000000               7.000000  ...   \n",
       "75%         4005.000000          1.000000              10.000000  ...   \n",
       "max        11074.000000          1.000000              41.000000  ...   \n",
       "\n",
       "       red_total_gold  red_totalDamageDoneToChampions  red_totalDamageDone  \\\n",
       "count     1965.000000                     1965.000000          1965.000000   \n",
       "mean     18980.467684                    17767.105852        129822.482443   \n",
       "std       6865.606432                    11091.073348         26053.412051   \n",
       "min       2500.000000                        0.000000            72.000000   \n",
       "25%      15841.000000                    12480.000000        116949.000000   \n",
       "50%      17070.000000                    14855.000000        128240.000000   \n",
       "75%      18483.000000                    17453.000000        140435.000000   \n",
       "max      50709.000000                    90131.000000        267074.000000   \n",
       "\n",
       "       red_minionsKilled  red_timeEnemySpentControlled  \\\n",
       "count        1965.000000                  1.965000e+03   \n",
       "mean          204.508906                  3.835996e+05   \n",
       "std            40.473490                  1.962646e+05   \n",
       "min             0.000000                  0.000000e+00   \n",
       "25%           194.000000                  2.627470e+05   \n",
       "50%           212.000000                  3.500020e+05   \n",
       "75%           228.000000                  4.505330e+05   \n",
       "max           280.000000                  2.934767e+06   \n",
       "\n",
       "       red_jungleMinionsKilled  red_currentGold  red_first_blood  \\\n",
       "count              1965.000000      1965.000000      1965.000000   \n",
       "mean                 47.912977      3287.313995         0.474300   \n",
       "std                  17.535999      1349.707314         0.499466   \n",
       "min                   0.000000         0.000000         0.000000   \n",
       "25%                  44.000000      2379.000000         0.000000   \n",
       "50%                  52.000000      3122.000000         0.000000   \n",
       "75%                  59.000000      4059.000000         1.000000   \n",
       "max                  84.000000     11801.000000         1.000000   \n",
       "\n",
       "       red_champions_killed     blue_win  \n",
       "count           1965.000000  1965.000000  \n",
       "mean               8.603562     0.517557  \n",
       "std                6.694306     0.499819  \n",
       "min                0.000000     0.000000  \n",
       "25%                5.000000     0.000000  \n",
       "50%                7.000000     1.000000  \n",
       "75%               10.000000     1.000000  \n",
       "max               50.000000     1.000000  \n",
       "\n",
       "[8 rows x 21 columns]"
      ]
     },
     "execution_count": 5,
     "metadata": {},
     "output_type": "execute_result"
    }
   ],
   "source": [
    "df.describe()"
   ]
  },
  {
   "cell_type": "code",
   "execution_count": 6,
   "id": "208abdd9-9566-42bc-8d98-72b4e5d73f07",
   "metadata": {},
   "outputs": [
    {
     "data": {
      "text/plain": [
       "1    51.755725\n",
       "0    48.244275\n",
       "Name: blue_win, dtype: float64"
      ]
     },
     "execution_count": 6,
     "metadata": {},
     "output_type": "execute_result"
    }
   ],
   "source": [
    "df['blue_win'].value_counts()/df['blue_win'].count() * 100"
   ]
  },
  {
   "cell_type": "code",
   "execution_count": 7,
   "id": "2560c2e1-e58a-46d3-b965-1ae7ed2b1308",
   "metadata": {},
   "outputs": [
    {
     "data": {
      "text/plain": [
       "1965"
      ]
     },
     "execution_count": 7,
     "metadata": {},
     "output_type": "execute_result"
    }
   ],
   "source": [
    "df['blue_win'].count()"
   ]
  },
  {
   "cell_type": "code",
   "execution_count": 8,
   "id": "59cca1d8-f9d5-474c-be75-b04e01c1476b",
   "metadata": {},
   "outputs": [
    {
     "data": {
      "text/plain": [
       "1    0.517048\n",
       "0    0.482952\n",
       "Name: blue_first_blood, dtype: float64"
      ]
     },
     "execution_count": 8,
     "metadata": {},
     "output_type": "execute_result"
    }
   ],
   "source": [
    "df['blue_first_blood'].value_counts()/df['blue_first_blood'].count()"
   ]
  },
  {
   "cell_type": "code",
   "execution_count": 9,
   "id": "cfa69f0e-10b0-4e77-8dce-8e7ef91c9a89",
   "metadata": {},
   "outputs": [],
   "source": [
    "df['gold_difference'] = df['blue_total_gold'] - df['red_total_gold']\n",
    "df['totalDamageDoneToChampions'] = df['blue_totalDamageDoneToChampions'] - df['red_totalDamageDoneToChampions']\n",
    "df['totalDamageDone'] = df['blue_totalDamageDone'] - df['red_totalDamageDone']\n",
    "df['timeEnemySpentControlled'] = df['blue_timeEnemySpentControlled'] - df['red_timeEnemySpentControlled']\n",
    "df['minionsKilled'] = df['blue_minionsKilled'] - df['red_minionsKilled'] \n",
    "df['average_level'] = df['blue_average_level'] - df['red_average_level']\n",
    "df['jungleMinionsKilled'] = df['blue_jungleMinionsKilled'] - df['red_jungleMinionsKilled']\n",
    "df['current_gold'] = df['blue_currentGold'] - df['red_currentGold']\n",
    "df['diff_champions_killed'] = df['red_champions_killed'] - df['blue_champions_killed']\n",
    "df.drop(['blue_total_gold', 'red_total_gold', 'blue_totalDamageDoneToChampions', 'red_totalDamageDoneToChampions', 'blue_totalDamageDone', 'red_totalDamageDone', 'blue_timeEnemySpentControlled', 'red_timeEnemySpentControlled', 'blue_minionsKilled', 'red_minionsKilled', 'blue_average_level', 'red_average_level', 'blue_jungleMinionsKilled', 'red_jungleMinionsKilled', 'red_currentGold', 'blue_currentGold', 'red_first_blood', 'blue_champions_killed', 'red_champions_killed'], axis=1, inplace = True)"
   ]
  },
  {
   "cell_type": "code",
   "execution_count": 10,
   "id": "bd15ed47-6644-4f5c-9919-b913f166f1ee",
   "metadata": {},
   "outputs": [],
   "source": [
    "y = df['blue_win']\n",
    "X = df.drop(['blue_win'], axis = 1)"
   ]
  },
  {
   "cell_type": "code",
   "execution_count": 11,
   "id": "97fb368d-82ee-4afc-9c12-44e6c46ef1dc",
   "metadata": {},
   "outputs": [],
   "source": [
    "X_train, X_test, y_train, y_test = train_test_split(X, y, test_size = 0.2, random_state = 5) "
   ]
  },
  {
   "cell_type": "code",
   "execution_count": 12,
   "id": "aef9df51-81b0-46bd-8a6c-a8de72803137",
   "metadata": {},
   "outputs": [],
   "source": [
    "data = X_train.join(y_train)"
   ]
  },
  {
   "cell_type": "code",
   "execution_count": 13,
   "id": "9d1df29c-423f-4470-ac92-ed70e6ca5cc2",
   "metadata": {},
   "outputs": [
    {
     "data": {
      "text/html": [
       "<div>\n",
       "<style scoped>\n",
       "    .dataframe tbody tr th:only-of-type {\n",
       "        vertical-align: middle;\n",
       "    }\n",
       "\n",
       "    .dataframe tbody tr th {\n",
       "        vertical-align: top;\n",
       "    }\n",
       "\n",
       "    .dataframe thead th {\n",
       "        text-align: right;\n",
       "    }\n",
       "</style>\n",
       "<table border=\"1\" class=\"dataframe\">\n",
       "  <thead>\n",
       "    <tr style=\"text-align: right;\">\n",
       "      <th></th>\n",
       "      <th>blue_first_blood</th>\n",
       "      <th>gold_difference</th>\n",
       "      <th>totalDamageDoneToChampions</th>\n",
       "      <th>totalDamageDone</th>\n",
       "      <th>timeEnemySpentControlled</th>\n",
       "      <th>minionsKilled</th>\n",
       "      <th>average_level</th>\n",
       "      <th>jungleMinionsKilled</th>\n",
       "      <th>current_gold</th>\n",
       "      <th>diff_champions_killed</th>\n",
       "      <th>blue_win</th>\n",
       "    </tr>\n",
       "  </thead>\n",
       "  <tbody>\n",
       "    <tr>\n",
       "      <th>1539</th>\n",
       "      <td>1</td>\n",
       "      <td>-5088</td>\n",
       "      <td>-4670</td>\n",
       "      <td>-45103</td>\n",
       "      <td>175782</td>\n",
       "      <td>-21</td>\n",
       "      <td>-1.0</td>\n",
       "      <td>-28</td>\n",
       "      <td>-3488</td>\n",
       "      <td>9</td>\n",
       "      <td>1</td>\n",
       "    </tr>\n",
       "    <tr>\n",
       "      <th>1411</th>\n",
       "      <td>1</td>\n",
       "      <td>-56</td>\n",
       "      <td>-3015</td>\n",
       "      <td>-15071</td>\n",
       "      <td>143620</td>\n",
       "      <td>1</td>\n",
       "      <td>-0.4</td>\n",
       "      <td>-16</td>\n",
       "      <td>-6</td>\n",
       "      <td>-1</td>\n",
       "      <td>1</td>\n",
       "    </tr>\n",
       "    <tr>\n",
       "      <th>772</th>\n",
       "      <td>0</td>\n",
       "      <td>-2596</td>\n",
       "      <td>-4421</td>\n",
       "      <td>-28370</td>\n",
       "      <td>309771</td>\n",
       "      <td>-39</td>\n",
       "      <td>-0.6</td>\n",
       "      <td>-20</td>\n",
       "      <td>-386</td>\n",
       "      <td>5</td>\n",
       "      <td>1</td>\n",
       "    </tr>\n",
       "    <tr>\n",
       "      <th>1283</th>\n",
       "      <td>0</td>\n",
       "      <td>665</td>\n",
       "      <td>-2182</td>\n",
       "      <td>40350</td>\n",
       "      <td>126665</td>\n",
       "      <td>14</td>\n",
       "      <td>0.2</td>\n",
       "      <td>35</td>\n",
       "      <td>-1925</td>\n",
       "      <td>0</td>\n",
       "      <td>1</td>\n",
       "    </tr>\n",
       "    <tr>\n",
       "      <th>857</th>\n",
       "      <td>1</td>\n",
       "      <td>3828</td>\n",
       "      <td>10890</td>\n",
       "      <td>6249</td>\n",
       "      <td>55540</td>\n",
       "      <td>27</td>\n",
       "      <td>0.4</td>\n",
       "      <td>-20</td>\n",
       "      <td>2733</td>\n",
       "      <td>-6</td>\n",
       "      <td>0</td>\n",
       "    </tr>\n",
       "    <tr>\n",
       "      <th>...</th>\n",
       "      <td>...</td>\n",
       "      <td>...</td>\n",
       "      <td>...</td>\n",
       "      <td>...</td>\n",
       "      <td>...</td>\n",
       "      <td>...</td>\n",
       "      <td>...</td>\n",
       "      <td>...</td>\n",
       "      <td>...</td>\n",
       "      <td>...</td>\n",
       "      <td>...</td>\n",
       "    </tr>\n",
       "    <tr>\n",
       "      <th>1142</th>\n",
       "      <td>0</td>\n",
       "      <td>-971</td>\n",
       "      <td>-5338</td>\n",
       "      <td>-20057</td>\n",
       "      <td>-166952</td>\n",
       "      <td>28</td>\n",
       "      <td>0.0</td>\n",
       "      <td>-32</td>\n",
       "      <td>-3826</td>\n",
       "      <td>-1</td>\n",
       "      <td>1</td>\n",
       "    </tr>\n",
       "    <tr>\n",
       "      <th>998</th>\n",
       "      <td>1</td>\n",
       "      <td>2992</td>\n",
       "      <td>2408</td>\n",
       "      <td>3293</td>\n",
       "      <td>-437045</td>\n",
       "      <td>53</td>\n",
       "      <td>0.4</td>\n",
       "      <td>0</td>\n",
       "      <td>522</td>\n",
       "      <td>-4</td>\n",
       "      <td>0</td>\n",
       "    </tr>\n",
       "    <tr>\n",
       "      <th>1725</th>\n",
       "      <td>1</td>\n",
       "      <td>-459</td>\n",
       "      <td>-423</td>\n",
       "      <td>6250</td>\n",
       "      <td>-259375</td>\n",
       "      <td>0</td>\n",
       "      <td>0.0</td>\n",
       "      <td>1</td>\n",
       "      <td>1296</td>\n",
       "      <td>2</td>\n",
       "      <td>0</td>\n",
       "    </tr>\n",
       "    <tr>\n",
       "      <th>206</th>\n",
       "      <td>1</td>\n",
       "      <td>1542</td>\n",
       "      <td>3006</td>\n",
       "      <td>6643</td>\n",
       "      <td>-367608</td>\n",
       "      <td>35</td>\n",
       "      <td>0.4</td>\n",
       "      <td>-5</td>\n",
       "      <td>1432</td>\n",
       "      <td>0</td>\n",
       "      <td>0</td>\n",
       "    </tr>\n",
       "    <tr>\n",
       "      <th>867</th>\n",
       "      <td>1</td>\n",
       "      <td>1779</td>\n",
       "      <td>1710</td>\n",
       "      <td>-3036</td>\n",
       "      <td>-60114</td>\n",
       "      <td>-51</td>\n",
       "      <td>0.0</td>\n",
       "      <td>-8</td>\n",
       "      <td>3834</td>\n",
       "      <td>-5</td>\n",
       "      <td>0</td>\n",
       "    </tr>\n",
       "  </tbody>\n",
       "</table>\n",
       "<p>1572 rows × 11 columns</p>\n",
       "</div>"
      ],
      "text/plain": [
       "      blue_first_blood  gold_difference  totalDamageDoneToChampions  \\\n",
       "1539                 1            -5088                       -4670   \n",
       "1411                 1              -56                       -3015   \n",
       "772                  0            -2596                       -4421   \n",
       "1283                 0              665                       -2182   \n",
       "857                  1             3828                       10890   \n",
       "...                ...              ...                         ...   \n",
       "1142                 0             -971                       -5338   \n",
       "998                  1             2992                        2408   \n",
       "1725                 1             -459                        -423   \n",
       "206                  1             1542                        3006   \n",
       "867                  1             1779                        1710   \n",
       "\n",
       "      totalDamageDone  timeEnemySpentControlled  minionsKilled  average_level  \\\n",
       "1539           -45103                    175782            -21           -1.0   \n",
       "1411           -15071                    143620              1           -0.4   \n",
       "772            -28370                    309771            -39           -0.6   \n",
       "1283            40350                    126665             14            0.2   \n",
       "857              6249                     55540             27            0.4   \n",
       "...               ...                       ...            ...            ...   \n",
       "1142           -20057                   -166952             28            0.0   \n",
       "998              3293                   -437045             53            0.4   \n",
       "1725             6250                   -259375              0            0.0   \n",
       "206              6643                   -367608             35            0.4   \n",
       "867             -3036                    -60114            -51            0.0   \n",
       "\n",
       "      jungleMinionsKilled  current_gold  diff_champions_killed  blue_win  \n",
       "1539                  -28         -3488                      9         1  \n",
       "1411                  -16            -6                     -1         1  \n",
       "772                   -20          -386                      5         1  \n",
       "1283                   35         -1925                      0         1  \n",
       "857                   -20          2733                     -6         0  \n",
       "...                   ...           ...                    ...       ...  \n",
       "1142                  -32         -3826                     -1         1  \n",
       "998                     0           522                     -4         0  \n",
       "1725                    1          1296                      2         0  \n",
       "206                    -5          1432                      0         0  \n",
       "867                    -8          3834                     -5         0  \n",
       "\n",
       "[1572 rows x 11 columns]"
      ]
     },
     "execution_count": 13,
     "metadata": {},
     "output_type": "execute_result"
    }
   ],
   "source": [
    "data"
   ]
  },
  {
   "cell_type": "code",
   "execution_count": 14,
   "id": "d10d7e15-1e75-4560-80a5-c9caa8455d47",
   "metadata": {},
   "outputs": [
    {
     "data": {
      "image/png": "[encoded data removed]",
      "text/plain": [
       "<Figure size 1440x792 with 1 Axes>"
      ]
     },
     "metadata": {
      "needs_background": "light"
     },
     "output_type": "display_data"
    }
   ],
   "source": [
    "axarr = data.hist(column = 'blue_win', figsize = (20, 11))\n",
    "for ax in axarr.flatten():\n",
    "    ax.set_xlabel(\"Team Wins\", fontsize = 24)\n",
    "    ax.set_ylabel(\"Games\", fontsize = 24)\n",
    "for bar in ax.containers[0]:\n",
    "    # get x midpoint of bar\n",
    "    x = bar.get_x() + 0.5 * bar.get_width()\n",
    "    if x > 0.5:\n",
    "        bar.set_color('blue')\n",
    "    else:\n",
    "        bar.set_color('red')"
   ]
  },
  {
   "cell_type": "code",
   "execution_count": 15,
   "id": "e740f13a-9f70-4dda-a401-59d6376893b6",
   "metadata": {},
   "outputs": [
    {
     "data": {
      "image/png": "[encoded data removed]",
      "text/plain": [
       "<Figure size 1440x792 with 1 Axes>"
      ]
     },
     "metadata": {
      "needs_background": "light"
     },
     "output_type": "display_data"
    }
   ],
   "source": [
    "axarr = data.hist(column = 'blue_first_blood', figsize = (20, 11))\n",
    "for ax in axarr.flatten():\n",
    "    ax.set_xlabel(\"Team First Kill\", fontsize = 24)\n",
    "    ax.set_ylabel(\"Games\", fontsize = 24)\n",
    "for bar in ax.containers[0]:\n",
    "    # get x midpoint of bar\n",
    "    x = bar.get_x() + 0.5 * bar.get_width()\n",
    "    if x > 0.5:\n",
    "        bar.set_color('blue')\n",
    "    else:\n",
    "        bar.set_color('red')"
   ]
  },
  {
   "cell_type": "code",
   "execution_count": 16,
   "id": "12252fa8-959e-4f55-a46d-d80b98054652",
   "metadata": {},
   "outputs": [
    {
     "data": {
      "text/plain": [
       "array([[<AxesSubplot: title={'center': 'blue_first_blood'}>,\n",
       "        <AxesSubplot: title={'center': 'gold_difference'}>,\n",
       "        <AxesSubplot: title={'center': 'totalDamageDoneToChampions'}>],\n",
       "       [<AxesSubplot: title={'center': 'totalDamageDone'}>,\n",
       "        <AxesSubplot: title={'center': 'timeEnemySpentControlled'}>,\n",
       "        <AxesSubplot: title={'center': 'minionsKilled'}>],\n",
       "       [<AxesSubplot: title={'center': 'average_level'}>,\n",
       "        <AxesSubplot: title={'center': 'jungleMinionsKilled'}>,\n",
       "        <AxesSubplot: title={'center': 'current_gold'}>],\n",
       "       [<AxesSubplot: title={'center': 'diff_champions_killed'}>,\n",
       "        <AxesSubplot: title={'center': 'blue_win'}>, <AxesSubplot: >]],\n",
       "      dtype=object)"
      ]
     },
     "execution_count": 16,
     "metadata": {},
     "output_type": "execute_result"
    },
    {
     "data": {
      "image/png": "[encoded data removed]",
      "text/plain": [
       "<Figure size 2160x1152 with 12 Axes>"
      ]
     },
     "metadata": {
      "needs_background": "light"
     },
     "output_type": "display_data"
    }
   ],
   "source": [
    "data.hist(figsize = (30, 16))"
   ]
  },
  {
   "cell_type": "code",
   "execution_count": 17,
   "id": "b3a5af60-9486-48cd-882a-4028a76489ab",
   "metadata": {},
   "outputs": [
    {
     "data": {
      "text/plain": [
       "<AxesSubplot: >"
      ]
     },
     "execution_count": 17,
     "metadata": {},
     "output_type": "execute_result"
    },
    {
     "data": {
      "image/png": "[encoded data removed]",
      "text/plain": [
       "<Figure size 1080x576 with 2 Axes>"
      ]
     },
     "metadata": {
      "needs_background": "light"
     },
     "output_type": "display_data"
    }
   ],
   "source": [
    "plt.figure(figsize=(15, 8))\n",
    "sns.heatmap(data.corr(), annot = True)"
   ]
  },
  {
   "cell_type": "code",
   "execution_count": 18,
   "id": "03b87b41-879c-48b3-b198-bcfe3b12edeb",
   "metadata": {},
   "outputs": [],
   "source": [
    "sc = StandardScaler()\n",
    "\n",
    "X_train = sc.fit_transform(X_train)\n",
    "X_test = sc.transform(X_test)"
   ]
  },
  {
   "cell_type": "code",
   "execution_count": 19,
   "id": "532f3269-6aa2-4971-af7b-12ffad7edf9b",
   "metadata": {},
   "outputs": [
    {
     "data": {
      "text/html": [
       "<style>#sk-container-id-1 {color: black;background-color: white;}#sk-container-id-1 pre{padding: 0;}#sk-container-id-1 div.sk-toggleable {background-color: white;}#sk-container-id-1 label.sk-toggleable__label {cursor: pointer;display: block;width: 100%;margin-bottom: 0;padding: 0.3em;box-sizing: border-box;text-align: center;}#sk-container-id-1 label.sk-toggleable__label-arrow:before {content: \"▸\";float: left;margin-right: 0.25em;color: #696969;}#sk-container-id-1 label.sk-toggleable__label-arrow:hover:before {color: black;}#sk-container-id-1 div.sk-estimator:hover label.sk-toggleable__label-arrow:before {color: black;}#sk-container-id-1 div.sk-toggleable__content {max-height: 0;max-width: 0;overflow: hidden;text-align: left;background-color: #f0f8ff;}#sk-container-id-1 div.sk-toggleable__content pre {margin: 0.2em;color: black;border-radius: 0.25em;background-color: #f0f8ff;}#sk-container-id-1 input.sk-toggleable__control:checked~div.sk-toggleable__content {max-height: 200px;max-width: 100%;overflow: auto;}#sk-container-id-1 input.sk-toggleable__control:checked~label.sk-toggleable__label-arrow:before {content: \"▾\";}#sk-container-id-1 div.sk-estimator input.sk-toggleable__control:checked~label.sk-toggleable__label {background-color: #d4ebff;}#sk-container-id-1 div.sk-label input.sk-toggleable__control:checked~label.sk-toggleable__label {background-color: #d4ebff;}#sk-container-id-1 input.sk-hidden--visually {border: 0;clip: rect(1px 1px 1px 1px);clip: rect(1px, 1px, 1px, 1px);height: 1px;margin: -1px;overflow: hidden;padding: 0;position: absolute;width: 1px;}#sk-container-id-1 div.sk-estimator {font-family: monospace;background-color: #f0f8ff;border: 1px dotted black;border-radius: 0.25em;box-sizing: border-box;margin-bottom: 0.5em;}#sk-container-id-1 div.sk-estimator:hover {background-color: #d4ebff;}#sk-container-id-1 div.sk-parallel-item::after {content: \"\";width: 100%;border-bottom: 1px solid gray;flex-grow: 1;}#sk-container-id-1 div.sk-label:hover label.sk-toggleable__label {background-color: #d4ebff;}#sk-container-id-1 div.sk-serial::before {content: \"\";position: absolute;border-left: 1px solid gray;box-sizing: border-box;top: 0;bottom: 0;left: 50%;z-index: 0;}#sk-container-id-1 div.sk-serial {display: flex;flex-direction: column;align-items: center;background-color: white;padding-right: 0.2em;padding-left: 0.2em;position: relative;}#sk-container-id-1 div.sk-item {position: relative;z-index: 1;}#sk-container-id-1 div.sk-parallel {display: flex;align-items: stretch;justify-content: center;background-color: white;position: relative;}#sk-container-id-1 div.sk-item::before, #sk-container-id-1 div.sk-parallel-item::before {content: \"\";position: absolute;border-left: 1px solid gray;box-sizing: border-box;top: 0;bottom: 0;left: 50%;z-index: -1;}#sk-container-id-1 div.sk-parallel-item {display: flex;flex-direction: column;z-index: 1;position: relative;background-color: white;}#sk-container-id-1 div.sk-parallel-item:first-child::after {align-self: flex-end;width: 50%;}#sk-container-id-1 div.sk-parallel-item:last-child::after {align-self: flex-start;width: 50%;}#sk-container-id-1 div.sk-parallel-item:only-child::after {width: 0;}#sk-container-id-1 div.sk-dashed-wrapped {border: 1px dashed gray;margin: 0 0.4em 0.5em 0.4em;box-sizing: border-box;padding-bottom: 0.4em;background-color: white;}#sk-container-id-1 div.sk-label label {font-family: monospace;font-weight: bold;display: inline-block;line-height: 1.2em;}#sk-container-id-1 div.sk-label-container {text-align: center;}#sk-container-id-1 div.sk-container {/* jupyter's `normalize.less` sets `[hidden] { display: none; }` but bootstrap.min.css set `[hidden] { display: none !important; }` so we also need the `!important` here to be able to override the default hidden behavior on the sphinx rendered scikit-learn.org. See: https://github.com/scikit-learn/scikit-learn/issues/21755 */display: inline-block !important;position: relative;}#sk-container-id-1 div.sk-text-repr-fallback {display: none;}</style><div id=\"sk-container-id-1\" class=\"sk-top-container\"><div class=\"sk-text-repr-fallback\"><pre>LogisticRegression()</pre><b>In a Jupyter environment, please rerun this cell to show the HTML representation or trust the notebook. <br />On GitHub, the HTML representation is unable to render, please try loading this page with nbviewer.org.</b></div><div class=\"sk-container\" hidden><div class=\"sk-item\"><div class=\"sk-estimator sk-toggleable\"><input class=\"sk-toggleable__control sk-hidden--visually\" id=\"sk-estimator-id-1\" type=\"checkbox\" checked><label for=\"sk-estimator-id-1\" class=\"sk-toggleable__label sk-toggleable__label-arrow\">LogisticRegression</label><div class=\"sk-toggleable__content\"><pre>LogisticRegression()</pre></div></div></div></div></div>"
      ],
      "text/plain": [
       "LogisticRegression()"
      ]
     },
     "execution_count": 19,
     "metadata": {},
     "output_type": "execute_result"
    }
   ],
   "source": [
    "lr = LogisticRegression()\n",
    "lr.fit(X_train, y_train)"
   ]
  },
  {
   "cell_type": "code",
   "execution_count": 20,
   "id": "08488cb2-7c3d-4a4e-b3f9-a2526c4fd979",
   "metadata": {},
   "outputs": [],
   "source": [
    "y_pred = lr.predict(X_test)\n"
   ]
  },
  {
   "cell_type": "code",
   "execution_count": 21,
   "id": "a29d07d1-e166-4afe-be39-5151bfa31112",
   "metadata": {},
   "outputs": [
    {
     "name": "stdout",
     "output_type": "stream",
     "text": [
      "Accuracy Score: 0.7099236641221374\n",
      "Recall:\n",
      " 71.57%\n",
      "Precision:\n",
      " 72.28%\n",
      "F1:\n",
      " 71.92324782759819\n"
     ]
    },
    {
     "data": {
      "image/png": "[encoded data removed]",
      "text/plain": [
       "<Figure size 432x288 with 1 Axes>"
      ]
     },
     "metadata": {
      "needs_background": "light"
     },
     "output_type": "display_data"
    }
   ],
   "source": [
    "lr_acc = accuracy_score(y_test, y_pred)\n",
    "recall = round((recall_score(y_test, y_pred)*100),2)\n",
    "precision = round((precision_score(y_test, y_pred)*100),2)\n",
    "print(f'Accuracy Score: {lr_acc}')\n",
    "print(f'Recall:\\n {recall}%')\n",
    "print(f'Precision:\\n {precision}%')\n",
    "print(f'F1:\\n {(2*precision*recall)/(precision+recall)}')\n",
    "\n",
    "RocCurveDisplay.from_predictions(y_test, y_pred)\n",
    "plt.show()"
   ]
  },
  {
   "cell_type": "code",
   "execution_count": 22,
   "id": "80224217-c124-4448-b379-591750eea706",
   "metadata": {},
   "outputs": [
    {
     "data": {
      "text/html": [
       "<style>#sk-container-id-2 {color: black;background-color: white;}#sk-container-id-2 pre{padding: 0;}#sk-container-id-2 div.sk-toggleable {background-color: white;}#sk-container-id-2 label.sk-toggleable__label {cursor: pointer;display: block;width: 100%;margin-bottom: 0;padding: 0.3em;box-sizing: border-box;text-align: center;}#sk-container-id-2 label.sk-toggleable__label-arrow:before {content: \"▸\";float: left;margin-right: 0.25em;color: #696969;}#sk-container-id-2 label.sk-toggleable__label-arrow:hover:before {color: black;}#sk-container-id-2 div.sk-estimator:hover label.sk-toggleable__label-arrow:before {color: black;}#sk-container-id-2 div.sk-toggleable__content {max-height: 0;max-width: 0;overflow: hidden;text-align: left;background-color: #f0f8ff;}#sk-container-id-2 div.sk-toggleable__content pre {margin: 0.2em;color: black;border-radius: 0.25em;background-color: #f0f8ff;}#sk-container-id-2 input.sk-toggleable__control:checked~div.sk-toggleable__content {max-height: 200px;max-width: 100%;overflow: auto;}#sk-container-id-2 input.sk-toggleable__control:checked~label.sk-toggleable__label-arrow:before {content: \"▾\";}#sk-container-id-2 div.sk-estimator input.sk-toggleable__control:checked~label.sk-toggleable__label {background-color: #d4ebff;}#sk-container-id-2 div.sk-label input.sk-toggleable__control:checked~label.sk-toggleable__label {background-color: #d4ebff;}#sk-container-id-2 input.sk-hidden--visually {border: 0;clip: rect(1px 1px 1px 1px);clip: rect(1px, 1px, 1px, 1px);height: 1px;margin: -1px;overflow: hidden;padding: 0;position: absolute;width: 1px;}#sk-container-id-2 div.sk-estimator {font-family: monospace;background-color: #f0f8ff;border: 1px dotted black;border-radius: 0.25em;box-sizing: border-box;margin-bottom: 0.5em;}#sk-container-id-2 div.sk-estimator:hover {background-color: #d4ebff;}#sk-container-id-2 div.sk-parallel-item::after {content: \"\";width: 100%;border-bottom: 1px solid gray;flex-grow: 1;}#sk-container-id-2 div.sk-label:hover label.sk-toggleable__label {background-color: #d4ebff;}#sk-container-id-2 div.sk-serial::before {content: \"\";position: absolute;border-left: 1px solid gray;box-sizing: border-box;top: 0;bottom: 0;left: 50%;z-index: 0;}#sk-container-id-2 div.sk-serial {display: flex;flex-direction: column;align-items: center;background-color: white;padding-right: 0.2em;padding-left: 0.2em;position: relative;}#sk-container-id-2 div.sk-item {position: relative;z-index: 1;}#sk-container-id-2 div.sk-parallel {display: flex;align-items: stretch;justify-content: center;background-color: white;position: relative;}#sk-container-id-2 div.sk-item::before, #sk-container-id-2 div.sk-parallel-item::before {content: \"\";position: absolute;border-left: 1px solid gray;box-sizing: border-box;top: 0;bottom: 0;left: 50%;z-index: -1;}#sk-container-id-2 div.sk-parallel-item {display: flex;flex-direction: column;z-index: 1;position: relative;background-color: white;}#sk-container-id-2 div.sk-parallel-item:first-child::after {align-self: flex-end;width: 50%;}#sk-container-id-2 div.sk-parallel-item:last-child::after {align-self: flex-start;width: 50%;}#sk-container-id-2 div.sk-parallel-item:only-child::after {width: 0;}#sk-container-id-2 div.sk-dashed-wrapped {border: 1px dashed gray;margin: 0 0.4em 0.5em 0.4em;box-sizing: border-box;padding-bottom: 0.4em;background-color: white;}#sk-container-id-2 div.sk-label label {font-family: monospace;font-weight: bold;display: inline-block;line-height: 1.2em;}#sk-container-id-2 div.sk-label-container {text-align: center;}#sk-container-id-2 div.sk-container {/* jupyter's `normalize.less` sets `[hidden] { display: none; }` but bootstrap.min.css set `[hidden] { display: none !important; }` so we also need the `!important` here to be able to override the default hidden behavior on the sphinx rendered scikit-learn.org. See: https://github.com/scikit-learn/scikit-learn/issues/21755 */display: inline-block !important;position: relative;}#sk-container-id-2 div.sk-text-repr-fallback {display: none;}</style><div id=\"sk-container-id-2\" class=\"sk-top-container\"><div class=\"sk-text-repr-fallback\"><pre>RandomForestClassifier()</pre><b>In a Jupyter environment, please rerun this cell to show the HTML representation or trust the notebook. <br />On GitHub, the HTML representation is unable to render, please try loading this page with nbviewer.org.</b></div><div class=\"sk-container\" hidden><div class=\"sk-item\"><div class=\"sk-estimator sk-toggleable\"><input class=\"sk-toggleable__control sk-hidden--visually\" id=\"sk-estimator-id-2\" type=\"checkbox\" checked><label for=\"sk-estimator-id-2\" class=\"sk-toggleable__label sk-toggleable__label-arrow\">RandomForestClassifier</label><div class=\"sk-toggleable__content\"><pre>RandomForestClassifier()</pre></div></div></div></div></div>"
      ],
      "text/plain": [
       "RandomForestClassifier()"
      ]
     },
     "execution_count": 22,
     "metadata": {},
     "output_type": "execute_result"
    }
   ],
   "source": [
    "rf = RandomForestClassifier()\n",
    "rf.fit(X_train, y_train)"
   ]
  },
  {
   "cell_type": "code",
   "execution_count": 23,
   "id": "ce0fbccc-585e-4f88-a842-efe37e5d5c19",
   "metadata": {},
   "outputs": [
    {
     "name": "stdout",
     "output_type": "stream",
     "text": [
      "Accuracy Score: 0.6997455470737913\n",
      "Recall:\n",
      " 68.63%\n",
      "Precision:\n",
      " 72.16%\n",
      "F1:\n",
      " 70.35074650188223\n"
     ]
    },
    {
     "data": {
      "image/png": "[encoded data removed]",
      "text/plain": [
       "<Figure size 432x288 with 1 Axes>"
      ]
     },
     "metadata": {
      "needs_background": "light"
     },
     "output_type": "display_data"
    }
   ],
   "source": [
    "rf_y_pred = rf.predict(X_test)\n",
    "model_acc = accuracy_score(y_test, rf_y_pred)\n",
    "recall = round((recall_score(y_test, rf_y_pred)*100),2)\n",
    "precision = round((precision_score(y_test, rf_y_pred)*100),2)\n",
    "print(f'Accuracy Score: {model_acc}')\n",
    "print(f'Recall:\\n {recall}%')\n",
    "print(f'Precision:\\n {precision}%')\n",
    "print(f'F1:\\n {(2*precision*recall)/(precision+recall)}')\n",
    "\n",
    "RocCurveDisplay.from_predictions(y_test, rf_y_pred)\n",
    "plt.show()"
   ]
  },
  {
   "cell_type": "code",
   "execution_count": 24,
   "id": "cb534b70-7c35-4dc3-8756-1c74f90a131b",
   "metadata": {},
   "outputs": [],
   "source": [
    "neigh = KNeighborsClassifier()"
   ]
  },
  {
   "cell_type": "code",
   "execution_count": 25,
   "id": "90bd97fd-e477-4b2e-94d5-ea69d6fc97bb",
   "metadata": {},
   "outputs": [
    {
     "data": {
      "text/html": [
       "<style>#sk-container-id-3 {color: black;background-color: white;}#sk-container-id-3 pre{padding: 0;}#sk-container-id-3 div.sk-toggleable {background-color: white;}#sk-container-id-3 label.sk-toggleable__label {cursor: pointer;display: block;width: 100%;margin-bottom: 0;padding: 0.3em;box-sizing: border-box;text-align: center;}#sk-container-id-3 label.sk-toggleable__label-arrow:before {content: \"▸\";float: left;margin-right: 0.25em;color: #696969;}#sk-container-id-3 label.sk-toggleable__label-arrow:hover:before {color: black;}#sk-container-id-3 div.sk-estimator:hover label.sk-toggleable__label-arrow:before {color: black;}#sk-container-id-3 div.sk-toggleable__content {max-height: 0;max-width: 0;overflow: hidden;text-align: left;background-color: #f0f8ff;}#sk-container-id-3 div.sk-toggleable__content pre {margin: 0.2em;color: black;border-radius: 0.25em;background-color: #f0f8ff;}#sk-container-id-3 input.sk-toggleable__control:checked~div.sk-toggleable__content {max-height: 200px;max-width: 100%;overflow: auto;}#sk-container-id-3 input.sk-toggleable__control:checked~label.sk-toggleable__label-arrow:before {content: \"▾\";}#sk-container-id-3 div.sk-estimator input.sk-toggleable__control:checked~label.sk-toggleable__label {background-color: #d4ebff;}#sk-container-id-3 div.sk-label input.sk-toggleable__control:checked~label.sk-toggleable__label {background-color: #d4ebff;}#sk-container-id-3 input.sk-hidden--visually {border: 0;clip: rect(1px 1px 1px 1px);clip: rect(1px, 1px, 1px, 1px);height: 1px;margin: -1px;overflow: hidden;padding: 0;position: absolute;width: 1px;}#sk-container-id-3 div.sk-estimator {font-family: monospace;background-color: #f0f8ff;border: 1px dotted black;border-radius: 0.25em;box-sizing: border-box;margin-bottom: 0.5em;}#sk-container-id-3 div.sk-estimator:hover {background-color: #d4ebff;}#sk-container-id-3 div.sk-parallel-item::after {content: \"\";width: 100%;border-bottom: 1px solid gray;flex-grow: 1;}#sk-container-id-3 div.sk-label:hover label.sk-toggleable__label {background-color: #d4ebff;}#sk-container-id-3 div.sk-serial::before {content: \"\";position: absolute;border-left: 1px solid gray;box-sizing: border-box;top: 0;bottom: 0;left: 50%;z-index: 0;}#sk-container-id-3 div.sk-serial {display: flex;flex-direction: column;align-items: center;background-color: white;padding-right: 0.2em;padding-left: 0.2em;position: relative;}#sk-container-id-3 div.sk-item {position: relative;z-index: 1;}#sk-container-id-3 div.sk-parallel {display: flex;align-items: stretch;justify-content: center;background-color: white;position: relative;}#sk-container-id-3 div.sk-item::before, #sk-container-id-3 div.sk-parallel-item::before {content: \"\";position: absolute;border-left: 1px solid gray;box-sizing: border-box;top: 0;bottom: 0;left: 50%;z-index: -1;}#sk-container-id-3 div.sk-parallel-item {display: flex;flex-direction: column;z-index: 1;position: relative;background-color: white;}#sk-container-id-3 div.sk-parallel-item:first-child::after {align-self: flex-end;width: 50%;}#sk-container-id-3 div.sk-parallel-item:last-child::after {align-self: flex-start;width: 50%;}#sk-container-id-3 div.sk-parallel-item:only-child::after {width: 0;}#sk-container-id-3 div.sk-dashed-wrapped {border: 1px dashed gray;margin: 0 0.4em 0.5em 0.4em;box-sizing: border-box;padding-bottom: 0.4em;background-color: white;}#sk-container-id-3 div.sk-label label {font-family: monospace;font-weight: bold;display: inline-block;line-height: 1.2em;}#sk-container-id-3 div.sk-label-container {text-align: center;}#sk-container-id-3 div.sk-container {/* jupyter's `normalize.less` sets `[hidden] { display: none; }` but bootstrap.min.css set `[hidden] { display: none !important; }` so we also need the `!important` here to be able to override the default hidden behavior on the sphinx rendered scikit-learn.org. See: https://github.com/scikit-learn/scikit-learn/issues/21755 */display: inline-block !important;position: relative;}#sk-container-id-3 div.sk-text-repr-fallback {display: none;}</style><div id=\"sk-container-id-3\" class=\"sk-top-container\"><div class=\"sk-text-repr-fallback\"><pre>KNeighborsClassifier()</pre><b>In a Jupyter environment, please rerun this cell to show the HTML representation or trust the notebook. <br />On GitHub, the HTML representation is unable to render, please try loading this page with nbviewer.org.</b></div><div class=\"sk-container\" hidden><div class=\"sk-item\"><div class=\"sk-estimator sk-toggleable\"><input class=\"sk-toggleable__control sk-hidden--visually\" id=\"sk-estimator-id-3\" type=\"checkbox\" checked><label for=\"sk-estimator-id-3\" class=\"sk-toggleable__label sk-toggleable__label-arrow\">KNeighborsClassifier</label><div class=\"sk-toggleable__content\"><pre>KNeighborsClassifier()</pre></div></div></div></div></div>"
      ],
      "text/plain": [
       "KNeighborsClassifier()"
      ]
     },
     "execution_count": 25,
     "metadata": {},
     "output_type": "execute_result"
    }
   ],
   "source": [
    "neigh.fit(X_train, y_train)"
   ]
  },
  {
   "cell_type": "code",
   "execution_count": 37,
   "id": "36eb0652-e066-41f9-a639-693725cd488f",
   "metadata": {},
   "outputs": [
    {
     "name": "stdout",
     "output_type": "stream",
     "text": [
      "Accuracy Score: 0.6717557251908397\n",
      "Recall:\n",
      " 70.1%\n",
      "Precision:\n",
      " 67.77%\n",
      "F1:\n",
      " 68.91531152534996\n"
     ]
    }
   ],
   "source": [
    "neigh_y_pred = neigh.predict(X_test)\n",
    "neigh_acc = accuracy_score(y_test, neigh_y_pred)\n",
    "recall = round((recall_score(y_test, neigh_y_pred)*100),2)\n",
    "precision = round((precision_score(y_test, neigh_y_pred)*100),2)\n",
    "print(f'Accuracy Score: {neigh_acc}')\n",
    "print(f'Recall:\\n {recall}%')\n",
    "print(f'Precision:\\n {precision}%')\n",
    "print(f'F1:\\n {(2*precision*recall)/(precision+recall)}')"
   ]
  },
  {
   "cell_type": "code",
   "execution_count": 27,
   "id": "2353b8f0-ed88-436d-8211-2d7f2c628ed2",
   "metadata": {},
   "outputs": [],
   "source": [
    "clf = GradientBoostingClassifier(n_estimators=100, learning_rate=1.0, max_depth=1, random_state=0).fit(X_train, y_train)"
   ]
  },
  {
   "cell_type": "code",
   "execution_count": 40,
   "id": "73494d70-3222-4f71-9737-4681be914f6e",
   "metadata": {},
   "outputs": [
    {
     "name": "stdout",
     "output_type": "stream",
     "text": [
      "Accuracy Score: 0.6844783715012722\n",
      "Recall:\n",
      " 71.57%\n",
      "Precision:\n",
      " 68.87%\n",
      "F1:\n",
      " 70.19404585588151\n"
     ]
    }
   ],
   "source": [
    "clf_pred = clf.predict(X_test)\n",
    "clf_acc = accuracy_score(y_test, clf_pred)\n",
    "recall = round((recall_score(y_test, clf_pred)*100),2)\n",
    "precision = round((precision_score(y_test, clf_pred)*100),2)\n",
    "print(f'Accuracy Score: {clf_acc}')\n",
    "print(f'Recall:\\n {recall}%')\n",
    "print(f'Precision:\\n {precision}%')\n",
    "print(f'F1:\\n {(2*precision*recall)/(precision+recall)}')"
   ]
  },
  {
   "cell_type": "code",
   "execution_count": 29,
   "id": "bbc3c87e-c34d-4b3d-af51-e0748cd81e1f",
   "metadata": {},
   "outputs": [],
   "source": [
    "# hyper parameters for logistic, has worse accuracy\n",
    "# params = {\n",
    "#     'penalty': ['none', 'l1', 'l2', 'elasticnet'],\n",
    "#     'C' : [1e-5, 1e-4, 1e-3, 1e-2, 1e-1, 1, 10, 100],\n",
    "#     'solver' : ['newton-cg', 'lbfgs', 'liblinear']\n",
    "# }"
   ]
  },
  {
   "cell_type": "code",
   "execution_count": 43,
   "id": "e7107475-48e9-41a3-bbbb-9ac7f57af07d",
   "metadata": {},
   "outputs": [
    {
     "data": {
      "text/html": [
       "<style>#sk-container-id-6 {color: black;background-color: white;}#sk-container-id-6 pre{padding: 0;}#sk-container-id-6 div.sk-toggleable {background-color: white;}#sk-container-id-6 label.sk-toggleable__label {cursor: pointer;display: block;width: 100%;margin-bottom: 0;padding: 0.3em;box-sizing: border-box;text-align: center;}#sk-container-id-6 label.sk-toggleable__label-arrow:before {content: \"▸\";float: left;margin-right: 0.25em;color: #696969;}#sk-container-id-6 label.sk-toggleable__label-arrow:hover:before {color: black;}#sk-container-id-6 div.sk-estimator:hover label.sk-toggleable__label-arrow:before {color: black;}#sk-container-id-6 div.sk-toggleable__content {max-height: 0;max-width: 0;overflow: hidden;text-align: left;background-color: #f0f8ff;}#sk-container-id-6 div.sk-toggleable__content pre {margin: 0.2em;color: black;border-radius: 0.25em;background-color: #f0f8ff;}#sk-container-id-6 input.sk-toggleable__control:checked~div.sk-toggleable__content {max-height: 200px;max-width: 100%;overflow: auto;}#sk-container-id-6 input.sk-toggleable__control:checked~label.sk-toggleable__label-arrow:before {content: \"▾\";}#sk-container-id-6 div.sk-estimator input.sk-toggleable__control:checked~label.sk-toggleable__label {background-color: #d4ebff;}#sk-container-id-6 div.sk-label input.sk-toggleable__control:checked~label.sk-toggleable__label {background-color: #d4ebff;}#sk-container-id-6 input.sk-hidden--visually {border: 0;clip: rect(1px 1px 1px 1px);clip: rect(1px, 1px, 1px, 1px);height: 1px;margin: -1px;overflow: hidden;padding: 0;position: absolute;width: 1px;}#sk-container-id-6 div.sk-estimator {font-family: monospace;background-color: #f0f8ff;border: 1px dotted black;border-radius: 0.25em;box-sizing: border-box;margin-bottom: 0.5em;}#sk-container-id-6 div.sk-estimator:hover {background-color: #d4ebff;}#sk-container-id-6 div.sk-parallel-item::after {content: \"\";width: 100%;border-bottom: 1px solid gray;flex-grow: 1;}#sk-container-id-6 div.sk-label:hover label.sk-toggleable__label {background-color: #d4ebff;}#sk-container-id-6 div.sk-serial::before {content: \"\";position: absolute;border-left: 1px solid gray;box-sizing: border-box;top: 0;bottom: 0;left: 50%;z-index: 0;}#sk-container-id-6 div.sk-serial {display: flex;flex-direction: column;align-items: center;background-color: white;padding-right: 0.2em;padding-left: 0.2em;position: relative;}#sk-container-id-6 div.sk-item {position: relative;z-index: 1;}#sk-container-id-6 div.sk-parallel {display: flex;align-items: stretch;justify-content: center;background-color: white;position: relative;}#sk-container-id-6 div.sk-item::before, #sk-container-id-6 div.sk-parallel-item::before {content: \"\";position: absolute;border-left: 1px solid gray;box-sizing: border-box;top: 0;bottom: 0;left: 50%;z-index: -1;}#sk-container-id-6 div.sk-parallel-item {display: flex;flex-direction: column;z-index: 1;position: relative;background-color: white;}#sk-container-id-6 div.sk-parallel-item:first-child::after {align-self: flex-end;width: 50%;}#sk-container-id-6 div.sk-parallel-item:last-child::after {align-self: flex-start;width: 50%;}#sk-container-id-6 div.sk-parallel-item:only-child::after {width: 0;}#sk-container-id-6 div.sk-dashed-wrapped {border: 1px dashed gray;margin: 0 0.4em 0.5em 0.4em;box-sizing: border-box;padding-bottom: 0.4em;background-color: white;}#sk-container-id-6 div.sk-label label {font-family: monospace;font-weight: bold;display: inline-block;line-height: 1.2em;}#sk-container-id-6 div.sk-label-container {text-align: center;}#sk-container-id-6 div.sk-container {/* jupyter's `normalize.less` sets `[hidden] { display: none; }` but bootstrap.min.css set `[hidden] { display: none !important; }` so we also need the `!important` here to be able to override the default hidden behavior on the sphinx rendered scikit-learn.org. See: https://github.com/scikit-learn/scikit-learn/issues/21755 */display: inline-block !important;position: relative;}#sk-container-id-6 div.sk-text-repr-fallback {display: none;}</style><div id=\"sk-container-id-6\" class=\"sk-top-container\"><div class=\"sk-text-repr-fallback\"><pre>GridSearchCV(estimator=RandomForestClassifier(),\n",
       "             param_grid={&#x27;criterion&#x27;: [&#x27;gini&#x27;, &#x27;entropy&#x27;, &#x27;log_loss&#x27;],\n",
       "                         &#x27;max_depth&#x27;: [3, 4, 5, 7, 8, 9],\n",
       "                         &#x27;min_samples_leaf&#x27;: [1, 3, 5, 7],\n",
       "                         &#x27;min_samples_split&#x27;: [2, 3, 4, 5],\n",
       "                         &#x27;min_weight_fraction_leaf&#x27;: [0],\n",
       "                         &#x27;n_jobs&#x27;: [None, 1, 2, 3], &#x27;random_state&#x27;: [5]})</pre><b>In a Jupyter environment, please rerun this cell to show the HTML representation or trust the notebook. <br />On GitHub, the HTML representation is unable to render, please try loading this page with nbviewer.org.</b></div><div class=\"sk-container\" hidden><div class=\"sk-item sk-dashed-wrapped\"><div class=\"sk-label-container\"><div class=\"sk-label sk-toggleable\"><input class=\"sk-toggleable__control sk-hidden--visually\" id=\"sk-estimator-id-10\" type=\"checkbox\" ><label for=\"sk-estimator-id-10\" class=\"sk-toggleable__label sk-toggleable__label-arrow\">GridSearchCV</label><div class=\"sk-toggleable__content\"><pre>GridSearchCV(estimator=RandomForestClassifier(),\n",
       "             param_grid={&#x27;criterion&#x27;: [&#x27;gini&#x27;, &#x27;entropy&#x27;, &#x27;log_loss&#x27;],\n",
       "                         &#x27;max_depth&#x27;: [3, 4, 5, 7, 8, 9],\n",
       "                         &#x27;min_samples_leaf&#x27;: [1, 3, 5, 7],\n",
       "                         &#x27;min_samples_split&#x27;: [2, 3, 4, 5],\n",
       "                         &#x27;min_weight_fraction_leaf&#x27;: [0],\n",
       "                         &#x27;n_jobs&#x27;: [None, 1, 2, 3], &#x27;random_state&#x27;: [5]})</pre></div></div></div><div class=\"sk-parallel\"><div class=\"sk-parallel-item\"><div class=\"sk-item\"><div class=\"sk-label-container\"><div class=\"sk-label sk-toggleable\"><input class=\"sk-toggleable__control sk-hidden--visually\" id=\"sk-estimator-id-11\" type=\"checkbox\" ><label for=\"sk-estimator-id-11\" class=\"sk-toggleable__label sk-toggleable__label-arrow\">estimator: RandomForestClassifier</label><div class=\"sk-toggleable__content\"><pre>RandomForestClassifier()</pre></div></div></div><div class=\"sk-serial\"><div class=\"sk-item\"><div class=\"sk-estimator sk-toggleable\"><input class=\"sk-toggleable__control sk-hidden--visually\" id=\"sk-estimator-id-12\" type=\"checkbox\" ><label for=\"sk-estimator-id-12\" class=\"sk-toggleable__label sk-toggleable__label-arrow\">RandomForestClassifier</label><div class=\"sk-toggleable__content\"><pre>RandomForestClassifier()</pre></div></div></div></div></div></div></div></div></div></div>"
      ],
      "text/plain": [
       "GridSearchCV(estimator=RandomForestClassifier(),\n",
       "             param_grid={'criterion': ['gini', 'entropy', 'log_loss'],\n",
       "                         'max_depth': [3, 4, 5, 7, 8, 9],\n",
       "                         'min_samples_leaf': [1, 3, 5, 7],\n",
       "                         'min_samples_split': [2, 3, 4, 5],\n",
       "                         'min_weight_fraction_leaf': [0],\n",
       "                         'n_jobs': [None, 1, 2, 3], 'random_state': [5]})"
      ]
     },
     "execution_count": 43,
     "metadata": {},
     "output_type": "execute_result"
    }
   ],
   "source": [
    "params = {\n",
    "    \"max_depth\": [3,4,5,7,8,9],\n",
    "    \"criterion\": ['gini', 'entropy', 'log_loss'],\n",
    "    \"min_samples_split\": [2,3,4,5],\n",
    "    \"min_samples_leaf\": [1,3,5,7],\n",
    "    \"min_weight_fraction_leaf\": [0],\n",
    "    \"n_jobs\": [None, 1, 2, 3],\n",
    "    \"random_state\": [5]\n",
    "}\n",
    "grid = GridSearchCV(rf, params)\n",
    "grid.fit(X_train, y_train)"
   ]
  },
  {
   "cell_type": "code",
   "execution_count": 46,
   "id": "1034e025-6b02-476d-995c-d77be2750336",
   "metadata": {},
   "outputs": [],
   "source": [
    "best_forest = grid.best_estimator_"
   ]
  },
  {
   "cell_type": "code",
   "execution_count": 47,
   "id": "9fc03103-68db-478a-8fdd-9514589e1a51",
   "metadata": {},
   "outputs": [
    {
     "name": "stdout",
     "output_type": "stream",
     "text": [
      "RandomForestClassifier(criterion='entropy', max_depth=7,\n",
      "                       min_weight_fraction_leaf=0, random_state=5)\n"
     ]
    }
   ],
   "source": [
    "print(best_forest)"
   ]
  },
  {
   "cell_type": "code",
   "execution_count": 45,
   "id": "33a8594a-3d12-445e-8102-338b2dd117d3",
   "metadata": {},
   "outputs": [
    {
     "data": {
      "text/plain": [
       "0.7150127226463104"
      ]
     },
     "execution_count": 45,
     "metadata": {},
     "output_type": "execute_result"
    }
   ],
   "source": [
    "best_forest.score(X_test, y_test)"
   ]
  },
  {
   "cell_type": "code",
   "execution_count": 48,
   "id": "3a85d0c3-727e-410a-9b61-b362a05d395f",
   "metadata": {},
   "outputs": [
    {
     "data": {
      "text/plain": [
       "<BarContainer object of 10 artists>"
      ]
     },
     "execution_count": 48,
     "metadata": {},
     "output_type": "execute_result"
    },
    {
     "data": {
      "image/png": "[encoded data removed]",
      "text/plain": [
       "<Figure size 1440x864 with 1 Axes>"
      ]
     },
     "metadata": {
      "needs_background": "light"
     },
     "output_type": "display_data"
    }
   ],
   "source": [
    "best_features = grid.best_estimator_.feature_importances_.argsort()\n",
    "plt.rcParams[\"figure.figsize\"] = (20,12)\n",
    "plt.barh(X.columns[best_features], grid.best_estimator_.feature_importances_[best_features])"
   ]
  },
  {
   "cell_type": "code",
   "execution_count": 49,
   "id": "2119eb68-8281-4306-a35b-0607e2a358c3",
   "metadata": {},
   "outputs": [
    {
     "name": "stdout",
     "output_type": "stream",
     "text": [
      "RandomForestClassifier(criterion='entropy', max_depth=7,\n",
      "                       min_weight_fraction_leaf=0, random_state=5)\n"
     ]
    }
   ],
   "source": [
    "print(best_forest)"
   ]
  },
  {
   "cell_type": "code",
   "execution_count": null,
   "id": "b90d2a01-901c-4908-b96b-909b49b200b2",
   "metadata": {},
   "outputs": [],
   "source": []
  }
 ],
 "metadata": {
  "kernelspec": {
   "display_name": "test_env",
   "language": "python",
   "name": "test_env"
  },
  "language_info": {
   "codemirror_mode": {
    "name": "ipython",
    "version": 3
   },
   "file_extension": ".py",
   "mimetype": "text/x-python",
   "name": "python",
   "nbconvert_exporter": "python",
   "pygments_lexer": "ipython3",
   "version": "3.10.4"
  }
 },
 "nbformat": 4,
 "nbformat_minor": 5
}
